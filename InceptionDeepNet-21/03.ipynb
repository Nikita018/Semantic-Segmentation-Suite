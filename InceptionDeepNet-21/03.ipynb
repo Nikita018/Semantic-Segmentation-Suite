{
  "nbformat": 4,
  "nbformat_minor": 0,
  "metadata": {
    "colab": {
      "name": "InceptionDeepNet.ipynb",
      "provenance": [],
      "collapsed_sections": [],
      "authorship_tag": "ABX9TyPo/G2/kNlLBa/yUpIGW2a6",
      "include_colab_link": true
    },
    "kernelspec": {
      "name": "python3",
      "display_name": "Python 3"
    }
  },
  "cells": [
    {
      "cell_type": "markdown",
      "metadata": {
        "id": "view-in-github",
        "colab_type": "text"
      },
      "source": [
        "<a href=\"https://colab.research.google.com/github/Nikita018/Semantic-Segmentation-Suite/blob/master/InceptionDeepNet-21/03.ipynb\" target=\"_parent\"><img src=\"https://colab.research.google.com/assets/colab-badge.svg\" alt=\"Open In Colab\"/></a>"
      ]
    },
    {
      "cell_type": "code",
      "metadata": {
        "id": "DfBTFj07MID2",
        "colab_type": "code",
        "colab": {
          "base_uri": "https://localhost:8080/",
          "height": 34
        },
        "outputId": "c6e08e60-4354-4fd4-b796-2a37fedd05d6"
      },
      "source": [
        "# mouting google drive\n",
        "from google.colab import drive\n",
        "drive.mount('/content/gdrive')\n"
      ],
      "execution_count": 1,
      "outputs": [
        {
          "output_type": "stream",
          "text": [
            "Drive already mounted at /content/gdrive; to attempt to forcibly remount, call drive.mount(\"/content/gdrive\", force_remount=True).\n"
          ],
          "name": "stdout"
        }
      ]
    },
    {
      "cell_type": "code",
      "metadata": {
        "id": "lZd3Nxqbj2sF",
        "colab_type": "code",
        "colab": {
          "base_uri": "https://localhost:8080/",
          "height": 34
        },
        "outputId": "62bb37b5-5989-4f82-e848-1bc7adb99c86"
      },
      "source": [
        "cd '/content/gdrive/My Drive/UBDS_college_work/SelfDrivingProject/Code/Semantic-Segmentation-Suite'"
      ],
      "execution_count": 2,
      "outputs": [
        {
          "output_type": "stream",
          "text": [
            "/content/gdrive/My Drive/UBDS_college_work/SelfDrivingProject/Code/Semantic-Segmentation-Suite\n"
          ],
          "name": "stdout"
        }
      ]
    },
    {
      "cell_type": "code",
      "metadata": {
        "id": "qqJsndksMRk3",
        "colab_type": "code",
        "colab": {
          "base_uri": "https://localhost:8080/",
          "height": 197
        },
        "outputId": "966190e2-f262-4b59-e921-5863c4e7c165"
      },
      "source": [
        "import os, csv, random, time, datetime, cv2\n",
        "import numpy as np\n",
        "import tensorflow as tf\n",
        "import cv2\n",
        "import matplotlib.pyplot as plt\n",
        "from utils import utils,helpers\n"
      ],
      "execution_count": 3,
      "outputs": [
        {
          "output_type": "display_data",
          "data": {
            "text/html": [
              "<p style=\"color: red;\">\n",
              "The default version of TensorFlow in Colab will soon switch to TensorFlow 2.x.<br>\n",
              "We recommend you <a href=\"https://www.tensorflow.org/guide/migrate\" target=\"_blank\">upgrade</a> now \n",
              "or ensure your notebook will continue to use TensorFlow 1.x via the <code>%tensorflow_version 1.x</code> magic:\n",
              "<a href=\"https://colab.research.google.com/notebooks/tensorflow_version.ipynb\" target=\"_blank\">more info</a>.</p>\n"
            ],
            "text/plain": [
              "<IPython.core.display.HTML object>"
            ]
          },
          "metadata": {
            "tags": []
          }
        },
        {
          "output_type": "stream",
          "text": [
            "WARNING:tensorflow:\n",
            "The TensorFlow contrib module will not be included in TensorFlow 2.0.\n",
            "For more information, please see:\n",
            "  * https://github.com/tensorflow/community/blob/master/rfcs/20180907-contrib-sunset.md\n",
            "  * https://github.com/tensorflow/addons\n",
            "  * https://github.com/tensorflow/io (for I/O related ops)\n",
            "If you depend on functionality not listed there, please file an issue.\n",
            "\n"
          ],
          "name": "stdout"
        }
      ]
    },
    {
      "cell_type": "code",
      "metadata": {
        "id": "K9dAHUGONfEO",
        "colab_type": "code",
        "colab": {}
      },
      "source": [
        ""
      ],
      "execution_count": 0,
      "outputs": []
    },
    {
      "cell_type": "code",
      "metadata": {
        "id": "sdufHm_MKXMZ",
        "colab_type": "code",
        "colab": {
          "base_uri": "https://localhost:8080/",
          "height": 286
        },
        "outputId": "dd37f732-b9f6-49d1-995d-d1df44c86abf"
      },
      "source": [
        "files=os.listdir(os.getcwd())\n",
        "print(files[0])\n",
        "img=cv2.imread(files[0])\n",
        "plt.imshow(img)\n",
        "plt.show()"
      ],
      "execution_count": 45,
      "outputs": [
        {
          "output_type": "stream",
          "text": [
            "0001TP_006690_L.png\n"
          ],
          "name": "stdout"
        },
        {
          "output_type": "display_data",
          "data": {
            "image/png": "[encoded data removed]",
            "text/plain": [
              "<Figure size 432x288 with 1 Axes>"
            ]
          },
          "metadata": {
            "tags": []
          }
        }
      ]
    },
    {
      "cell_type": "code",
      "metadata": {
        "id": "xSZFxDl1MBFG",
        "colab_type": "code",
        "colab": {}
      },
      "source": [
        "def get_label_info(csv_path):\n",
        "    \"\"\"\n",
        "    Retrieve the class names and label values for the selected dataset.\n",
        "    Must be in CSV format!\n",
        "    # Arguments\n",
        "        csv_path: The file path of the class dictionairy\n",
        "        \n",
        "    # Returns\n",
        "        Two lists: one for the class names and the other for the label values\n",
        "    \"\"\"\n",
        "    filename, file_extension = os.path.splitext(csv_path)\n",
        "    if not file_extension == \".csv\":\n",
        "        return ValueError(\"File is not a CSV!\")\n",
        "\n",
        "    class_names = []\n",
        "    label_values = []\n",
        "    with open(csv_path, 'r') as csvfile:\n",
        "        file_reader = csv.reader(csvfile, delimiter=',')\n",
        "        header = next(file_reader)\n",
        "        for row in file_reader:\n",
        "            class_names.append(row[0])\n",
        "            label_values.append([int(row[1]), int(row[2]), int(row[3])])\n",
        "        # print(class_dict)\n",
        "    return class_names, label_values\n"
      ],
      "execution_count": 0,
      "outputs": []
    },
    {
      "cell_type": "code",
      "metadata": {
        "id": "lF9tXmkAvtr1",
        "colab_type": "code",
        "colab": {}
      },
      "source": [
        "# Get the names of the classes so we can record the evaluation results\n",
        "class_names_list, label_values = get_label_info(os.path.join('/content/gdrive/My Drive/UBDS_college_work/SelfDrivingProject/Code/Semantic-Segmentation-Suite/CamVid/class_dict.csv'))\n",
        "class_names_string = \"\"\n",
        "for class_name in class_names_list:\n",
        "    if not class_name == class_names_list[-1]:\n",
        "        class_names_string = class_names_string + class_name + \", \"\n",
        "    else:\n",
        "        class_names_string = class_names_string + class_name\n",
        "\n"
      ],
      "execution_count": 0,
      "outputs": []
    },
    {
      "cell_type": "code",
      "metadata": {
        "id": "yBmIh-S9i5tN",
        "colab_type": "code",
        "colab": {}
      },
      "source": [
        "dataset_dir=\"CamVid\"\n",
        "\n",
        "def prepare_data(dataset_dir):\n",
        "    train_input_names=[]\n",
        "    train_output_names=[]\n",
        "    val_input_names=[]\n",
        "    val_output_names=[]\n",
        "    test_input_names=[]\n",
        "    test_output_names=[]\n",
        "    for file in os.listdir(dataset_dir + \"/train\"):\n",
        "        cwd = os.getcwd()\n",
        "        train_input_names.append(cwd + \"/\" + dataset_dir + \"/train/\" + file)\n",
        "    for file in os.listdir(dataset_dir + \"/train_labels\"):\n",
        "        cwd = os.getcwd()\n",
        "        train_output_names.append(cwd + \"/\" + dataset_dir + \"/train_labels/\" + file)\n",
        "    for file in os.listdir(dataset_dir + \"/val\"):\n",
        "        cwd = os.getcwd()\n",
        "        val_input_names.append(cwd + \"/\" + dataset_dir + \"/val/\" + file)\n",
        "    for file in os.listdir(dataset_dir + \"/val_labels\"):\n",
        "        cwd = os.getcwd()\n",
        "        val_output_names.append(cwd + \"/\" + dataset_dir + \"/val_labels/\" + file)\n",
        "    for file in os.listdir(dataset_dir + \"/test\"):\n",
        "        cwd = os.getcwd()\n",
        "        test_input_names.append(cwd + \"/\" + dataset_dir + \"/test/\" + file)\n",
        "    for file in os.listdir(dataset_dir + \"/test_labels\"):\n",
        "        cwd = os.getcwd()\n",
        "        test_output_names.append(cwd + \"/\" + dataset_dir + \"/test_labels/\" + file)\n",
        "    train_input_names.sort(),train_output_names.sort(), val_input_names.sort(), val_output_names.sort(), test_input_names.sort(), test_output_names.sort()\n",
        "    return train_input_names,train_output_names, val_input_names, val_output_names, test_input_names, test_output_names\n",
        "\n",
        "train_input_names,train_output_names, val_input_names, val_output_names, test_input_names, test_output_names = prepare_data(dataset_dir)"
      ],
      "execution_count": 0,
      "outputs": []
    },
    {
      "cell_type": "code",
      "metadata": {
        "id": "vwZT2rWTiv6x",
        "colab_type": "code",
        "colab": {}
      },
      "source": [
        "input_image_batch = []\n",
        "output_image_batch = []\n",
        "batch_size=10\n",
        "i=1\n",
        "id_list = np.random.permutation(len(train_input_names))\n",
        "# Collect a batch of images\n",
        "for j in range(batch_size):\n",
        "    index = i*batch_size + j\n",
        "    id = id_list[index]\n",
        "    input_image = utils.load_image(train_input_names[id])\n",
        "    output_image = utils.load_image(train_output_names[id])\n",
        "\n",
        "    with tf.device('/cpu:0'):\n",
        "        input_image = np.float32(input_image) / 255.0\n",
        "        output_image = np.float32(helpers.one_hot_it(label=output_image, label_values=label_values))\n",
        "\n",
        "        input_image_batch.append(np.expand_dims(input_image, axis=0))\n",
        "        output_image_batch.append(np.expand_dims(output_image, axis=0))\n",
        "\n",
        "if batch_size == 1:\n",
        "    input_image_batch = input_image_batch[0]\n",
        "    output_image_batch = output_image_batch[0]\n",
        "else:\n",
        "    input_image_batch = np.squeeze(np.stack(input_image_batch, axis=1))\n",
        "    output_image_batch = np.squeeze(np.stack(output_image_batch, axis=1))"
      ],
      "execution_count": 0,
      "outputs": []
    },
    {
      "cell_type": "code",
      "metadata": {
        "id": "29Ike74nVe8F",
        "colab_type": "code",
        "outputId": "13393576-d5d2-4d23-f707-cb1c9c9fe149",
        "colab": {
          "base_uri": "https://localhost:8080/",
          "height": 252
        }
      },
      "source": [
        "\n",
        "from tensorflow.keras import layers\n",
        "from tensorflow.keras import Model\n",
        "!wget --no-check-certificate \\\n",
        "    https://storage.googleapis.com/mledu-datasets/inception_v3_weights_tf_dim_ordering_tf_kernels_notop.h5 \\\n",
        "    -O /tmp/inception_v3_weights_tf_dim_ordering_tf_kernels_notop.h5\n",
        "  \n",
        "from tensorflow.keras.applications.inception_v3 import InceptionV3\n",
        "\n",
        "local_weights_file = '/tmp/inception_v3_weights_tf_dim_ordering_tf_kernels_notop.h5'\n",
        "\n",
        "pre_trained_model = InceptionV3(input_shape = (720, 960, 3), \n",
        "                                include_top = False, \n",
        "                                weights = None)\n",
        "\n",
        "pre_trained_model.load_weights(local_weights_file)\n",
        "for layer in pre_trained_model.layers:\n",
        "  layer.trainable = False\n",
        "\n",
        "last_layer = pre_trained_model.get_layer('mixed7')\n",
        "print('last layer output shape: ', last_layer.output_shape)\n",
        "last_output = last_layer.output\n",
        "print(last_output)\n",
        "inputs = last_output\n",
        "feature_map_size = tf.shape(last_output)\n",
        "depth=256\n",
        "label_size = tf.shape(inputs)[1:3]\n",
        "\n",
        "num_classes = 32\n",
        "\n",
        "# Global average pooling\n",
        "image_features = tf.reduce_mean(inputs, [1, 2], keep_dims=True)\n",
        "print(image_features)\n",
        "\n",
        "\n",
        "image_features = tf.keras.layers.Conv2D(\n",
        "    depth, [1, 1], strides=(1, 1), activity_regularizer=None\n",
        ")(image_features)\n",
        "\n",
        "image_features = tf.image.resize_bilinear(image_features, (feature_map_size[1], feature_map_size[2]))\n",
        "\n",
        "atrous_pool_block_1 = tf.keras.layers.Conv2D(depth, [1, 1], strides=(1, 1), activity_regularizer=None)(inputs)\n",
        "\n",
        "atrous_pool_block_6 = tf.keras.layers.Conv2D(depth, [3, 3], padding = 'same', dilation_rate = [6,6],activity_regularizer=None)(inputs)\n",
        "\n",
        "atrous_pool_block_12 = tf.keras.layers.Conv2D(depth, [3, 3], padding = 'same', dilation_rate = [12,12],activity_regularizer=None)(inputs)\n",
        "\n",
        "atrous_pool_block_18 = tf.keras.layers.Conv2D(depth, [3, 3], padding = 'same', dilation_rate = [18,18],activity_regularizer=None)(inputs)\n",
        "\n",
        "net = tf.concat((image_features, atrous_pool_block_1, atrous_pool_block_6, atrous_pool_block_12, atrous_pool_block_18), axis=3)\n",
        "net = tf.keras.layers.Conv2D(depth, [1, 1], activity_regularizer=None)(net)\n",
        "net = tf.image.resize_bilinear(net, size=label_size)\n",
        "net = tf.keras.layers.Conv2D(num_classes, [1, 1], activity_regularizer=None)(net)\n",
        "model = Model( net)\n",
        "#model.summary() "
      ],
      "execution_count": 23,
      "outputs": [
        {
          "output_type": "stream",
          "text": [
            "--2020-03-21 19:39:43--  https://storage.googleapis.com/mledu-datasets/inception_v3_weights_tf_dim_ordering_tf_kernels_notop.h5\n",
            "Resolving storage.googleapis.com (storage.googleapis.com)... 173.194.216.128, 2607:f8b0:400c:c12::80\n",
            "Connecting to storage.googleapis.com (storage.googleapis.com)|173.194.216.128|:443... connected.\n",
            "HTTP request sent, awaiting response... 200 OK\n",
            "Length: 87910968 (84M) [application/x-hdf]\n",
            "Saving to: ‘/tmp/inception_v3_weights_tf_dim_ordering_tf_kernels_notop.h5’\n",
            "\n",
            "/tmp/inception_v3_w 100%[===================>]  83.84M   186MB/s    in 0.5s    \n",
            "\n",
            "2020-03-21 19:39:43 (186 MB/s) - ‘/tmp/inception_v3_weights_tf_dim_ordering_tf_kernels_notop.h5’ saved [87910968/87910968]\n",
            "\n",
            "last layer output shape:  (None, 43, 58, 768)\n",
            "Tensor(\"mixed7_3/concat:0\", shape=(?, 43, 58, 768), dtype=float32)\n",
            "Tensor(\"Mean_3:0\", shape=(?, 1, 1, 768), dtype=float32)\n"
          ],
          "name": "stdout"
        }
      ]
    },
    {
      "cell_type": "code",
      "metadata": {
        "id": "KGz_pCF3k2Wz",
        "colab_type": "code",
        "colab": {
          "base_uri": "https://localhost:8080/",
          "height": 34
        },
        "outputId": "c99bede0-4a57-41e1-a6aa-6e4a566a009c"
      },
      "source": [
        "model.outputs"
      ],
      "execution_count": 17,
      "outputs": [
        {
          "output_type": "execute_result",
          "data": {
            "text/plain": [
              "[<tf.Tensor 'conv2d_100/BiasAdd:0' shape=(?, ?, ?, 32) dtype=float32>]"
            ]
          },
          "metadata": {
            "tags": []
          },
          "execution_count": 17
        }
      ]
    },
    {
      "cell_type": "code",
      "metadata": {
        "id": "jgZhFHT3XeSM",
        "colab_type": "code",
        "colab": {
          "base_uri": "https://localhost:8080/",
          "height": 491
        },
        "outputId": "8dcfedff-65cc-4ef2-fe51-7d16e07547df"
      },
      "source": [
        "# Compute your softmax cross entropy loss\n",
        "from tensorflow.keras.optimizers import RMSprop\n",
        "\n",
        "from tensorflow.keras.preprocessing.image import ImageDataGenerator\n",
        "\n",
        "model.compile(optimizer = RMSprop(lr=0.0001), \n",
        "              loss = 'categorical_crossentropy', \n",
        "              metrics = ['acc'])\n",
        "history = model.fit(\n",
        "      input_image_batch, output_image_batch,\n",
        "      steps_per_epoch=8,  \n",
        "      epochs=1,\n",
        "      verbose=1)\n",
        "\n",
        "\n"
      ],
      "execution_count": 22,
      "outputs": [
        {
          "output_type": "stream",
          "text": [
            "WARNING:tensorflow:When passing input data as arrays, do not specify `steps_per_epoch`/`steps` argument. Please use `batch_size` instead.\n",
            "WARNING:tensorflow:From /tensorflow-1.15.0/python3.6/tensorflow_core/python/ops/math_grad.py:1424: where (from tensorflow.python.ops.array_ops) is deprecated and will be removed in a future version.\n",
            "Instructions for updating:\n",
            "Use tf.where in 2.0, which has the same broadcast rule as np.where\n",
            "Train on 8 samples\n"
          ],
          "name": "stdout"
        },
        {
          "output_type": "error",
          "ename": "InvalidArgumentError",
          "evalue": "ignored",
          "traceback": [
            "\u001b[0;31m---------------------------------------------------------------------------\u001b[0m",
            "\u001b[0;31mInvalidArgumentError\u001b[0m                      Traceback (most recent call last)",
            "\u001b[0;32m<ipython-input-22-6b4a8bb46222>\u001b[0m in \u001b[0;36m<module>\u001b[0;34m()\u001b[0m\n\u001b[1;32m     10\u001b[0m       \u001b[0msteps_per_epoch\u001b[0m\u001b[0;34m=\u001b[0m\u001b[0;36m8\u001b[0m\u001b[0;34m,\u001b[0m\u001b[0;34m\u001b[0m\u001b[0;34m\u001b[0m\u001b[0m\n\u001b[1;32m     11\u001b[0m       \u001b[0mepochs\u001b[0m\u001b[0;34m=\u001b[0m\u001b[0;36m1\u001b[0m\u001b[0;34m,\u001b[0m\u001b[0;34m\u001b[0m\u001b[0;34m\u001b[0m\u001b[0m\n\u001b[0;32m---> 12\u001b[0;31m       verbose=1)\n\u001b[0m\u001b[1;32m     13\u001b[0m \u001b[0;34m\u001b[0m\u001b[0m\n\u001b[1;32m     14\u001b[0m \u001b[0;34m\u001b[0m\u001b[0m\n",
            "\u001b[0;32m/tensorflow-1.15.0/python3.6/tensorflow_core/python/keras/engine/training.py\u001b[0m in \u001b[0;36mfit\u001b[0;34m(self, x, y, batch_size, epochs, verbose, callbacks, validation_split, validation_data, shuffle, class_weight, sample_weight, initial_epoch, steps_per_epoch, validation_steps, validation_freq, max_queue_size, workers, use_multiprocessing, **kwargs)\u001b[0m\n\u001b[1;32m    725\u001b[0m         \u001b[0mmax_queue_size\u001b[0m\u001b[0;34m=\u001b[0m\u001b[0mmax_queue_size\u001b[0m\u001b[0;34m,\u001b[0m\u001b[0;34m\u001b[0m\u001b[0;34m\u001b[0m\u001b[0m\n\u001b[1;32m    726\u001b[0m         \u001b[0mworkers\u001b[0m\u001b[0;34m=\u001b[0m\u001b[0mworkers\u001b[0m\u001b[0;34m,\u001b[0m\u001b[0;34m\u001b[0m\u001b[0;34m\u001b[0m\u001b[0m\n\u001b[0;32m--> 727\u001b[0;31m         use_multiprocessing=use_multiprocessing)\n\u001b[0m\u001b[1;32m    728\u001b[0m \u001b[0;34m\u001b[0m\u001b[0m\n\u001b[1;32m    729\u001b[0m   def evaluate(self,\n",
            "\u001b[0;32m/tensorflow-1.15.0/python3.6/tensorflow_core/python/keras/engine/training_arrays.py\u001b[0m in \u001b[0;36mfit\u001b[0;34m(self, model, x, y, batch_size, epochs, verbose, callbacks, validation_split, validation_data, shuffle, class_weight, sample_weight, initial_epoch, steps_per_epoch, validation_steps, validation_freq, **kwargs)\u001b[0m\n\u001b[1;32m    673\u001b[0m         \u001b[0mvalidation_steps\u001b[0m\u001b[0;34m=\u001b[0m\u001b[0mvalidation_steps\u001b[0m\u001b[0;34m,\u001b[0m\u001b[0;34m\u001b[0m\u001b[0;34m\u001b[0m\u001b[0m\n\u001b[1;32m    674\u001b[0m         \u001b[0mvalidation_freq\u001b[0m\u001b[0;34m=\u001b[0m\u001b[0mvalidation_freq\u001b[0m\u001b[0;34m,\u001b[0m\u001b[0;34m\u001b[0m\u001b[0;34m\u001b[0m\u001b[0m\n\u001b[0;32m--> 675\u001b[0;31m         steps_name='steps_per_epoch')\n\u001b[0m\u001b[1;32m    676\u001b[0m \u001b[0;34m\u001b[0m\u001b[0m\n\u001b[1;32m    677\u001b[0m   def evaluate(self,\n",
            "\u001b[0;32m/tensorflow-1.15.0/python3.6/tensorflow_core/python/keras/engine/training_arrays.py\u001b[0m in \u001b[0;36mmodel_iteration\u001b[0;34m(model, inputs, targets, sample_weights, batch_size, epochs, verbose, callbacks, val_inputs, val_targets, val_sample_weights, shuffle, initial_epoch, steps_per_epoch, validation_steps, validation_freq, mode, validation_in_fit, prepared_feed_values_from_dataset, steps_name, **kwargs)\u001b[0m\n\u001b[1;32m    298\u001b[0m           \u001b[0;32melse\u001b[0m\u001b[0;34m:\u001b[0m\u001b[0;34m\u001b[0m\u001b[0;34m\u001b[0m\u001b[0m\n\u001b[1;32m    299\u001b[0m             \u001b[0mactual_inputs\u001b[0m \u001b[0;34m=\u001b[0m \u001b[0mins\u001b[0m\u001b[0;34m(\u001b[0m\u001b[0;34m)\u001b[0m\u001b[0;34m\u001b[0m\u001b[0;34m\u001b[0m\u001b[0m\n\u001b[0;32m--> 300\u001b[0;31m           \u001b[0mbatch_outs\u001b[0m \u001b[0;34m=\u001b[0m \u001b[0mf\u001b[0m\u001b[0;34m(\u001b[0m\u001b[0mactual_inputs\u001b[0m\u001b[0;34m)\u001b[0m\u001b[0;34m\u001b[0m\u001b[0;34m\u001b[0m\u001b[0m\n\u001b[0m\u001b[1;32m    301\u001b[0m         \u001b[0;32mexcept\u001b[0m \u001b[0merrors\u001b[0m\u001b[0;34m.\u001b[0m\u001b[0mOutOfRangeError\u001b[0m\u001b[0;34m:\u001b[0m\u001b[0;34m\u001b[0m\u001b[0;34m\u001b[0m\u001b[0m\n\u001b[1;32m    302\u001b[0m           \u001b[0;32mif\u001b[0m \u001b[0mis_dataset\u001b[0m\u001b[0;34m:\u001b[0m\u001b[0;34m\u001b[0m\u001b[0;34m\u001b[0m\u001b[0m\n",
            "\u001b[0;32m/tensorflow-1.15.0/python3.6/tensorflow_core/python/keras/backend.py\u001b[0m in \u001b[0;36m__call__\u001b[0;34m(self, inputs)\u001b[0m\n\u001b[1;32m   3474\u001b[0m \u001b[0;34m\u001b[0m\u001b[0m\n\u001b[1;32m   3475\u001b[0m     fetched = self._callable_fn(*array_vals,\n\u001b[0;32m-> 3476\u001b[0;31m                                 run_metadata=self.run_metadata)\n\u001b[0m\u001b[1;32m   3477\u001b[0m     \u001b[0mself\u001b[0m\u001b[0;34m.\u001b[0m\u001b[0m_call_fetch_callbacks\u001b[0m\u001b[0;34m(\u001b[0m\u001b[0mfetched\u001b[0m\u001b[0;34m[\u001b[0m\u001b[0;34m-\u001b[0m\u001b[0mlen\u001b[0m\u001b[0;34m(\u001b[0m\u001b[0mself\u001b[0m\u001b[0;34m.\u001b[0m\u001b[0m_fetches\u001b[0m\u001b[0;34m)\u001b[0m\u001b[0;34m:\u001b[0m\u001b[0;34m]\u001b[0m\u001b[0;34m)\u001b[0m\u001b[0;34m\u001b[0m\u001b[0;34m\u001b[0m\u001b[0m\n\u001b[1;32m   3478\u001b[0m     output_structure = nest.pack_sequence_as(\n",
            "\u001b[0;32m/tensorflow-1.15.0/python3.6/tensorflow_core/python/client/session.py\u001b[0m in \u001b[0;36m__call__\u001b[0;34m(self, *args, **kwargs)\u001b[0m\n\u001b[1;32m   1470\u001b[0m         ret = tf_session.TF_SessionRunCallable(self._session._session,\n\u001b[1;32m   1471\u001b[0m                                                \u001b[0mself\u001b[0m\u001b[0;34m.\u001b[0m\u001b[0m_handle\u001b[0m\u001b[0;34m,\u001b[0m \u001b[0margs\u001b[0m\u001b[0;34m,\u001b[0m\u001b[0;34m\u001b[0m\u001b[0;34m\u001b[0m\u001b[0m\n\u001b[0;32m-> 1472\u001b[0;31m                                                run_metadata_ptr)\n\u001b[0m\u001b[1;32m   1473\u001b[0m         \u001b[0;32mif\u001b[0m \u001b[0mrun_metadata\u001b[0m\u001b[0;34m:\u001b[0m\u001b[0;34m\u001b[0m\u001b[0;34m\u001b[0m\u001b[0m\n\u001b[1;32m   1474\u001b[0m           \u001b[0mproto_data\u001b[0m \u001b[0;34m=\u001b[0m \u001b[0mtf_session\u001b[0m\u001b[0;34m.\u001b[0m\u001b[0mTF_GetBuffer\u001b[0m\u001b[0;34m(\u001b[0m\u001b[0mrun_metadata_ptr\u001b[0m\u001b[0;34m)\u001b[0m\u001b[0;34m\u001b[0m\u001b[0;34m\u001b[0m\u001b[0m\n",
            "\u001b[0;31mInvalidArgumentError\u001b[0m: Incompatible shapes: [10,720,960] vs. [10,43,58]\n\t [[{{node metrics_2/acc/Equal}}]]"
          ]
        }
      ]
    },
    {
      "cell_type": "code",
      "metadata": {
        "id": "v9q_cpKwTyUb",
        "colab_type": "code",
        "outputId": "4e8ad916-4d60-4abb-b06e-739cf02b45fb",
        "colab": {
          "base_uri": "https://localhost:8080/",
          "height": 50
        }
      },
      "source": [
        "import random\n",
        "print(\"\\n***** Begin training *****\")\n",
        "avg_loss_per_epoch = []\n",
        "avg_scores_per_epoch = []\n",
        "avg_iou_per_epoch = []\n",
        "\n",
        "# Which validation images do we want\n",
        "val_indices = []\n",
        "num_vals = min(20, len(val_input_names))\n",
        "\n",
        "# Set random seed to make sure models are validated on the same validation images.\n",
        "# So you can compare the results of different models more intuitively.\n",
        "random.seed(16)\n",
        "val_indices=random.sample(range(0,len(val_input_names)),num_vals)"
      ],
      "execution_count": 10,
      "outputs": [
        {
          "output_type": "stream",
          "text": [
            "\n",
            "***** Begin training *****\n"
          ],
          "name": "stdout"
        }
      ]
    },
    {
      "cell_type": "code",
      "metadata": {
        "id": "fnA97AFSVGvl",
        "colab_type": "code",
        "colab": {}
      },
      "source": [
        "def load_image(path):\n",
        "    image = cv2.cvtColor(cv2.imread(path,-1), cv2.COLOR_BGR2RGB)\n",
        "    return image\n",
        "\n",
        "def one_hot_it(label, label_values):\n",
        "    \"\"\"\n",
        "    Convert a segmentation image label array to one-hot format\n",
        "    by replacing each pixel value with a vector of length num_classes\n",
        "    # Arguments\n",
        "        label: The 2D array segmentation image label\n",
        "        label_values\n",
        "        \n",
        "    # Returns\n",
        "        A 2D array with the same width and hieght as the input, but\n",
        "        with a depth size of num_classes\n",
        "    \"\"\"\n",
        "    # st = time.time()\n",
        "    # w = label.shape[0]\n",
        "    # h = label.shape[1]\n",
        "    # num_classes = len(class_dict)\n",
        "    # x = np.zeros([w,h,num_classes])\n",
        "    # unique_labels = sortedlist((class_dict.values()))\n",
        "    # for i in range(0, w):\n",
        "    #     for j in range(0, h):\n",
        "    #         index = unique_labels.index(list(label[i][j][:]))\n",
        "    #         x[i,j,index]=1\n",
        "    # print(\"Time 1 = \", time.time() - st)\n",
        "\n",
        "    # st = time.time()\n",
        "    # https://stackoverflow.com/questions/46903885/map-rgb-semantic-maps-to-one-hot-encodings-and-vice-versa-in-tensorflow\n",
        "    # https://stackoverflow.com/questions/14859458/how-to-check-if-all-values-in-the-columns-of-a-numpy-matrix-are-the-same\n",
        "    semantic_map = []\n",
        "    for colour in label_values:\n",
        "        # colour_map = np.full((label.shape[0], label.shape[1], label.shape[2]), colour, dtype=int)\n",
        "        equality = np.equal(label, colour)\n",
        "        class_map = np.all(equality, axis = -1)\n",
        "        semantic_map.append(class_map)\n",
        "    semantic_map = np.stack(semantic_map, axis=-1)\n",
        "    # print(\"Time 2 = \", time.time() - st)\n",
        "\n",
        "    return semantic_map\n",
        "\n",
        "def LOG(X, f=None):\n",
        "    time_stamp = datetime.datetime.now().strftime(\"[%Y-%m-%d %H:%M:%S]\")\n",
        "    if not f:\n",
        "        print(time_stamp + \" \" + X)\n",
        "    else:\n",
        "        f.write(time_stamp + \" \" + X)\n",
        "\n",
        "def reverse_one_hot(image):\n",
        "    \"\"\"\n",
        "    Transform a 2D array in one-hot format (depth is num_classes),\n",
        "    to a 2D array with only 1 channel, where each pixel value is\n",
        "    the classified class key.\n",
        "    # Arguments\n",
        "        image: The one-hot format image \n",
        "        \n",
        "    # Returns\n",
        "        A 2D array with the same width and hieght as the input, but\n",
        "        with a depth size of 1, where each pixel value is the classified \n",
        "        class key.\n",
        "    \"\"\"\n",
        "    # w = image.shape[0]\n",
        "    # h = image.shape[1]\n",
        "    # x = np.zeros([w,h,1])\n",
        "\n",
        "    # for i in range(0, w):\n",
        "    #     for j in range(0, h):\n",
        "    #         index, value = max(enumerate(image[i, j, :]), key=operator.itemgetter(1))\n",
        "    #         x[i, j] = index\n",
        "\n",
        "    x = np.argmax(image, axis = -1)\n",
        "    return x\n",
        "\n",
        "def colour_code_segmentation(image, label_values):\n",
        "    \"\"\"\n",
        "    Given a 1-channel array of class keys, colour code the segmentation results.\n",
        "    # Arguments\n",
        "        image: single channel array where each value represents the class key.\n",
        "        label_values\n",
        "        \n",
        "    # Returns\n",
        "        Colour coded image for segmentation visualization\n",
        "    \"\"\"\n",
        "    \n",
        "    colour_codes = np.array(label_values)\n",
        "    x = colour_codes[image.astype(int)]\n",
        "\n",
        "    return x\n"
      ],
      "execution_count": 0,
      "outputs": []
    },
    {
      "cell_type": "code",
      "metadata": {
        "id": "EPwIUdkzXHdI",
        "colab_type": "code",
        "colab": {}
      },
      "source": [
        "config = tf.ConfigProto()\n",
        "config.gpu_options.allow_growth = True\n",
        "sess=tf.Session(config=config)\n"
      ],
      "execution_count": 0,
      "outputs": []
    },
    {
      "cell_type": "code",
      "metadata": {
        "id": "nZI3IUZXURWS",
        "colab_type": "code",
        "outputId": "39c1e961-1968-4a94-9204-84aa095ec609",
        "colab": {
          "base_uri": "https://localhost:8080/",
          "height": 229
        }
      },
      "source": [
        "# Do the training here\n",
        "num_epochs = 2\n",
        "batch_size = 10\n",
        "for epoch in range(0, num_epochs):\n",
        "\n",
        "    current_losses = []\n",
        "\n",
        "    cnt=0\n",
        "\n",
        "    # Equivalent to shuffling\n",
        "    id_list = np.random.permutation(len(train_input_names))\n",
        "\n",
        "    num_iters = int(np.floor(len(id_list) / batch_size))\n",
        "    st = time.time()\n",
        "    epoch_st=time.time()\n",
        "    for i in range(num_iters):\n",
        "        # st=time.time()\n",
        "        input_image_batch = []\n",
        "        output_image_batch = []\n",
        "\n",
        "        # Collect a batch of images\n",
        "        for j in range(batch_size):\n",
        "            index = i*batch_size + j\n",
        "            id = id_list[index]\n",
        "            input_image = load_image(train_input_names[id])\n",
        "            output_image = load_image(train_output_names[id])\n",
        "\n",
        "            with tf.device('/cpu:0'):\n",
        "                #input_image, output_image = data_augmentation(input_image, output_image)\n",
        "\n",
        "\n",
        "                # Prep the data. Make sure the labels are in one-hot format\n",
        "                input_image = np.float32(input_image) / 255.0\n",
        "                output_image = np.float32(one_hot_it(label=output_image, label_values=label_values))\n",
        "\n",
        "                input_image_batch.append(np.expand_dims(input_image, axis=0))\n",
        "                output_image_batch.append(np.expand_dims(output_image, axis=0))\n",
        "\n",
        "        if batch_size == 1:\n",
        "            input_image_batch = input_image_batch[0]\n",
        "            output_image_batch = output_image_batch[0]\n",
        "        else:\n",
        "            input_image_batch = np.squeeze(np.stack(input_image_batch, axis=1))\n",
        "            output_image_batch = np.squeeze(np.stack(output_image_batch, axis=1))\n",
        "\n",
        "        # Do the training\n",
        "        _,current=sess.run([opt,loss],feed_dict={net_input:input_image_batch,net_output:output_image_batch})\n",
        "        current_losses.append(current)\n",
        "        cnt = cnt + batch_size\n",
        "        if cnt % 20 == 0:\n",
        "            string_print = \"Epoch = %d Count = %d Current_Loss = %.4f Time = %.2f\"%(epoch,cnt,current,time.time()-st)\n",
        "            LOG(string_print)\n",
        "            st = time.time()\n",
        "\n",
        "    mean_loss = np.mean(current_losses)\n",
        "    avg_loss_per_epoch.append(mean_loss)\n",
        "\n",
        "    # Create directories if needed\n",
        "    if not os.path.isdir(\"%s/%04d\"%(\"checkpoints\",epoch)):\n",
        "        os.makedirs(\"%s/%04d\"%(\"checkpoints\",epoch))\n",
        "\n",
        "    # Save latest checkpoint to same file name\n",
        "    print(\"Saving latest checkpoint\")\n",
        "    saver.save(sess,model_checkpoint_name)\n",
        "\n",
        "    checkpoint_step = 5\n",
        "    validation_step = 1\n",
        "\n",
        "    if val_indices != 0 and epoch % checkpoint_step == 0:\n",
        "        print(\"Saving checkpoint for this epoch\")\n",
        "        saver.save(sess,\"%s/%04d/model.ckpt\"%(\"checkpoints\",epoch))\n",
        "\n",
        "\n",
        "    if epoch % validation_step == 0:\n",
        "        print(\"Performing validation\")\n",
        "        target=open(\"%s/%04d/val_scores.csv\"%(\"checkpoints\",epoch),'w')\n",
        "        target.write(\"val_name, avg_accuracy, precision, recall, f1 score, mean iou, %s\\n\" % (class_names_string))\n",
        "\n",
        "\n",
        "        scores_list = []\n",
        "        class_scores_list = []\n",
        "        precision_list = []\n",
        "        recall_list = []\n",
        "        f1_list = []\n",
        "        iou_list = []\n",
        "\n",
        "\n",
        "        # Do the validation on a small set of validation images\n",
        "        for ind in val_indices:\n",
        "\n",
        "            # input_image = np.expand_dims(np.float32(utils.load_image(val_input_names[ind])[:args.crop_height, :args.crop_width]),axis=0)/255.0\n",
        "            # gt = utils.load_image(val_output_names[ind])[:args.crop_height, :args.crop_width]\n",
        "            gt = reverse_one_hot(one_hot_it(gt, label_values))\n",
        "\n",
        "            # st = time.time()\n",
        "\n",
        "            output_image = sess.run(network,feed_dict={net_input:input_image})\n",
        "\n",
        "\n",
        "            output_image = np.array(output_image[0,:,:,:])\n",
        "            output_image = reverse_one_hot(output_image)\n",
        "            out_vis_image = colour_code_segmentation(output_image, label_values)\n",
        "\n",
        "            accuracy, class_accuracies, prec, rec, f1, iou = utils.evaluate_segmentation(pred=output_image, label=gt, num_classes=num_classes)\n",
        "\n",
        "            file_name = utils.filepath_to_name(val_input_names[ind])\n",
        "            target.write(\"%s, %f, %f, %f, %f, %f\"%(file_name, accuracy, prec, rec, f1, iou))\n",
        "            for item in class_accuracies:\n",
        "                target.write(\", %f\"%(item))\n",
        "            target.write(\"\\n\")\n",
        "\n",
        "            scores_list.append(accuracy)\n",
        "            class_scores_list.append(class_accuracies)\n",
        "            precision_list.append(prec)\n",
        "            recall_list.append(rec)\n",
        "            f1_list.append(f1)\n",
        "            iou_list.append(iou)\n",
        "\n",
        "            gt = helpers.colour_code_segmentation(gt, label_values)\n",
        "\n",
        "            file_name = os.path.basename(val_input_names[ind])\n",
        "            file_name = os.path.splitext(file_name)[0]\n",
        "            cv2.imwrite(\"%s/%04d/%s_pred.png\"%(\"checkpoints\",epoch, file_name),cv2.cvtColor(np.uint8(out_vis_image), cv2.COLOR_RGB2BGR))\n",
        "            cv2.imwrite(\"%s/%04d/%s_gt.png\"%(\"checkpoints\",epoch, file_name),cv2.cvtColor(np.uint8(gt), cv2.COLOR_RGB2BGR))\n",
        "\n",
        "\n",
        "        target.close()\n",
        "\n",
        "        avg_score = np.mean(scores_list)\n",
        "        class_avg_scores = np.mean(class_scores_list, axis=0)\n",
        "        avg_scores_per_epoch.append(avg_score)\n",
        "        avg_precision = np.mean(precision_list)\n",
        "        avg_recall = np.mean(recall_list)\n",
        "        avg_f1 = np.mean(f1_list)\n",
        "        avg_iou = np.mean(iou_list)\n",
        "        avg_iou_per_epoch.append(avg_iou)\n",
        "\n",
        "        print(\"\\nAverage validation accuracy for epoch # %04d = %f\"% (epoch, avg_score))\n",
        "        print(\"Average per class validation accuracies for epoch # %04d:\"% (epoch))\n",
        "        for index, item in enumerate(class_avg_scores):\n",
        "            print(\"%s = %f\" % (class_names_list[index], item))\n",
        "        print(\"Validation precision = \", avg_precision)\n",
        "        print(\"Validation recall = \", avg_recall)\n",
        "        print(\"Validation F1 score = \", avg_f1)\n",
        "        print(\"Validation IoU score = \", avg_iou)\n",
        "\n",
        "    epoch_time=time.time()-epoch_st\n",
        "    remain_time=epoch_time*(num_epochs-1-epoch)\n",
        "    m, s = divmod(remain_time, 60)\n",
        "    h, m = divmod(m, 60)\n",
        "    if s!=0:\n",
        "        train_time=\"Remaining training time = %d hours %d minutes %d seconds\\n\"%(h,m,s)\n",
        "    else:\n",
        "        train_time=\"Remaining training time : Training completed.\\n\"\n",
        "    LOG(train_time)\n",
        "    scores_list = []\n",
        "\n",
        "\n",
        "    fig1, ax1 = plt.subplots(figsize=(11, 8))\n",
        "\n",
        "    ax1.plot(range(epoch+1), avg_scores_per_epoch)\n",
        "    ax1.set_title(\"Average validation accuracy vs epochs\")\n",
        "    ax1.set_xlabel(\"Epoch\")\n",
        "    ax1.set_ylabel(\"Avg. val. accuracy\")\n",
        "\n",
        "\n",
        "    plt.savefig('accuracy_vs_epochs.png')\n",
        "\n",
        "    plt.clf()\n",
        "\n",
        "    fig2, ax2 = plt.subplots(figsize=(11, 8))\n",
        "\n",
        "    ax2.plot(range(epoch+1), avg_loss_per_epoch)\n",
        "    ax2.set_title(\"Average loss vs epochs\")\n",
        "    ax2.set_xlabel(\"Epoch\")\n",
        "    ax2.set_ylabel(\"Current loss\")\n",
        "\n",
        "    plt.savefig('loss_vs_epochs.png')\n",
        "\n",
        "    plt.clf()\n",
        "\n",
        "    fig3, ax3 = plt.subplots(figsize=(11, 8))\n",
        "\n",
        "    ax3.plot(range(epoch+1), avg_iou_per_epoch)\n",
        "    ax3.set_title(\"Average IoU vs epochs\")\n",
        "    ax3.set_xlabel(\"Epoch\")\n",
        "    ax3.set_ylabel(\"Current IoU\")\n",
        "\n",
        "    plt.savefig('iou_vs_epochs.png')"
      ],
      "execution_count": 28,
      "outputs": [
        {
          "output_type": "error",
          "ename": "NameError",
          "evalue": "ignored",
          "traceback": [
            "\u001b[0;31m---------------------------------------------------------------------------\u001b[0m",
            "\u001b[0;31mNameError\u001b[0m                                 Traceback (most recent call last)",
            "\u001b[0;32m<ipython-input-28-181202d06522>\u001b[0m in \u001b[0;36m<module>\u001b[0;34m()\u001b[0m\n\u001b[1;32m     44\u001b[0m \u001b[0;34m\u001b[0m\u001b[0m\n\u001b[1;32m     45\u001b[0m         \u001b[0;31m# Do the training\u001b[0m\u001b[0;34m\u001b[0m\u001b[0;34m\u001b[0m\u001b[0;34m\u001b[0m\u001b[0m\n\u001b[0;32m---> 46\u001b[0;31m         \u001b[0m_\u001b[0m\u001b[0;34m,\u001b[0m\u001b[0mcurrent\u001b[0m\u001b[0;34m=\u001b[0m\u001b[0msess\u001b[0m\u001b[0;34m.\u001b[0m\u001b[0mrun\u001b[0m\u001b[0;34m(\u001b[0m\u001b[0;34m[\u001b[0m\u001b[0mopt\u001b[0m\u001b[0;34m,\u001b[0m\u001b[0mloss\u001b[0m\u001b[0;34m]\u001b[0m\u001b[0;34m,\u001b[0m\u001b[0mfeed_dict\u001b[0m\u001b[0;34m=\u001b[0m\u001b[0;34m{\u001b[0m\u001b[0mnet_input\u001b[0m\u001b[0;34m:\u001b[0m\u001b[0minput_image_batch\u001b[0m\u001b[0;34m,\u001b[0m\u001b[0mnet_output\u001b[0m\u001b[0;34m:\u001b[0m\u001b[0moutput_image_batch\u001b[0m\u001b[0;34m}\u001b[0m\u001b[0;34m)\u001b[0m\u001b[0;34m\u001b[0m\u001b[0;34m\u001b[0m\u001b[0m\n\u001b[0m\u001b[1;32m     47\u001b[0m         \u001b[0mcurrent_losses\u001b[0m\u001b[0;34m.\u001b[0m\u001b[0mappend\u001b[0m\u001b[0;34m(\u001b[0m\u001b[0mcurrent\u001b[0m\u001b[0;34m)\u001b[0m\u001b[0;34m\u001b[0m\u001b[0;34m\u001b[0m\u001b[0m\n\u001b[1;32m     48\u001b[0m         \u001b[0mcnt\u001b[0m \u001b[0;34m=\u001b[0m \u001b[0mcnt\u001b[0m \u001b[0;34m+\u001b[0m \u001b[0mbatch_size\u001b[0m\u001b[0;34m\u001b[0m\u001b[0;34m\u001b[0m\u001b[0m\n",
            "\u001b[0;31mNameError\u001b[0m: name 'opt' is not defined"
          ]
        }
      ]
    }
  ]
}